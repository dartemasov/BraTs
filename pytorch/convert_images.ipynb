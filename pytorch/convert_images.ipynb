{
 "cells": [
  {
   "cell_type": "code",
   "execution_count": 1,
   "id": "d62e5e4a-f2f1-40ca-86e0-6188c570e3ee",
   "metadata": {},
   "outputs": [],
   "source": [
    "import cv2\n",
    "import os\n",
    "import pdb\n",
    "import numpy as np\n",
    "import nibabel as nib\n",
    "from sklearn.preprocessing import LabelBinarizer\n",
    "import matplotlib.pyplot as plt\n",
    "import torch\n",
    "import torch.nn as nn\n",
    "import torch.nn.functional as F"
   ]
  },
  {
   "cell_type": "code",
   "execution_count": 2,
   "id": "724d05fc-e0b8-4280-9c04-617f1deaf09d",
   "metadata": {},
   "outputs": [],
   "source": [
    "IMG_ROOT = 'data/images'\n",
    "IMG_OUTPUT = 'data/slices'\n",
    "\n",
    "L0 = 0      # Background\n",
    "L1 = 50     # Necrotic and Non-enhancing Tumor\n",
    "L2 = 100    # Edema\n",
    "L3 = 150    # Enhancing Tumor"
   ]
  },
  {
   "cell_type": "code",
   "execution_count": 4,
   "id": "9d4d8039-4b97-4fde-8313-be61ed8d2f08",
   "metadata": {},
   "outputs": [],
   "source": [
    "flair_path = []\n",
    "t1_path = []\n",
    "t1ce_path = []\n",
    "t2_path = []\n",
    "seg_path = []\n",
    "for path in os.listdir(IMG_ROOT):\n",
    "    # print(path)\n",
    "    if path[0] == '.':\n",
    "        continue\n",
    "    flair_path.append(os.path.join(IMG_ROOT,path,path)+'_flair.nii.gz')\n",
    "    t1_path.append(os.path.join(IMG_ROOT,path,path)+'_seg.nii.gz')\n",
    "    t1ce_path.append(os.path.join(IMG_ROOT,path,path)+'_t1ce.nii.gz')\n",
    "    t2_path.append(os.path.join(IMG_ROOT,path,path)+'_t2.nii.gz')\n",
    "    seg_path.append(os.path.join(IMG_ROOT,path,path)+'_seg.nii.gz')"
   ]
  },
  {
   "cell_type": "code",
   "execution_count": 64,
   "id": "6ad3b7d5-8fc8-4fbc-a6c0-73fd8c09cf4f",
   "metadata": {
    "tags": []
   },
   "outputs": [],
   "source": [
    "try:\n",
    "    for mode in ['fl', 't1', 't1ce', 't2', 'seg']:\n",
    "        os.makedirs(os.path.join(IMG_OUTPUT, mode))\n",
    "except:\n",
    "    pass\n",
    "for i, (fl, t1, t1ce, t2, seg) in enumerate(zip(flair_path, t1_path, t1ce_path, t2_path, seg_path)):\n",
    "    for mode in ['fl', 't1', 't1ce', 't2', 'seg']:\n",
    "        im = nib.load(locals()[mode]).get_fdata()\n",
    "        im = ((im/im.max())*255).astype(np.uint8)\n",
    "        for j in range(im.shape[2]):\n",
    "            filename = os.path.join(IMG_OUTPUT,mode,str(i)+'_'+str(j)+'.jpg')\n",
    "            gray_img = fl_im[:,:,i]\n",
    "            # print(filename)\n",
    "            cv2.imwrite(filename, gray_img)"
   ]
  },
  {
   "cell_type": "code",
   "execution_count": null,
   "id": "d03d0663-415a-47a5-97c3-13c387dd1d61",
   "metadata": {},
   "outputs": [],
   "source": []
  }
 ],
 "metadata": {
  "kernelspec": {
   "display_name": "Python 3 (ipykernel)",
   "language": "python",
   "name": "python3"
  },
  "language_info": {
   "codemirror_mode": {
    "name": "ipython",
    "version": 3
   },
   "file_extension": ".py",
   "mimetype": "text/x-python",
   "name": "python",
   "nbconvert_exporter": "python",
   "pygments_lexer": "ipython3",
   "version": "3.9.10"
  }
 },
 "nbformat": 4,
 "nbformat_minor": 5
}
